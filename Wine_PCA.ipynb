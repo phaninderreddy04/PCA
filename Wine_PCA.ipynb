{
 "cells": [
  {
   "cell_type": "code",
   "execution_count": 98,
   "metadata": {},
   "outputs": [],
   "source": [
    "import numpy as np\n",
    "import pandas as pd\n",
    "import matplotlib.pyplot as plt\n",
    "%matplotlib inline\n",
    "from sklearn import preprocessing\n",
    "from sklearn.decomposition import PCA\n",
    "from sklearn.linear_model import LogisticRegression\n",
    "from sklearn import metrics"
   ]
  },
  {
   "cell_type": "code",
   "execution_count": 5,
   "metadata": {},
   "outputs": [],
   "source": [
    "columns = ['Class','Alcohol','MalicAcid','Ash','Acl','Mg','Phenols','Flav','Non-Flav','Proanth','Color','Hue','OD','Proline']\n",
    "df = pd.read_csv(\"wine.xls\",names=columns)"
   ]
  },
  {
   "cell_type": "code",
   "execution_count": 6,
   "metadata": {},
   "outputs": [
    {
     "data": {
      "text/html": [
       "<div>\n",
       "<style scoped>\n",
       "    .dataframe tbody tr th:only-of-type {\n",
       "        vertical-align: middle;\n",
       "    }\n",
       "\n",
       "    .dataframe tbody tr th {\n",
       "        vertical-align: top;\n",
       "    }\n",
       "\n",
       "    .dataframe thead th {\n",
       "        text-align: right;\n",
       "    }\n",
       "</style>\n",
       "<table border=\"1\" class=\"dataframe\">\n",
       "  <thead>\n",
       "    <tr style=\"text-align: right;\">\n",
       "      <th></th>\n",
       "      <th>Class</th>\n",
       "      <th>Alcohol</th>\n",
       "      <th>MalicAcid</th>\n",
       "      <th>Ash</th>\n",
       "      <th>Acl</th>\n",
       "      <th>Mg</th>\n",
       "      <th>Phenols</th>\n",
       "      <th>Flav</th>\n",
       "      <th>Non-Flav</th>\n",
       "      <th>Proanth</th>\n",
       "      <th>Color</th>\n",
       "      <th>Hue</th>\n",
       "      <th>OD</th>\n",
       "      <th>Proline</th>\n",
       "    </tr>\n",
       "  </thead>\n",
       "  <tbody>\n",
       "    <tr>\n",
       "      <th>0</th>\n",
       "      <td>1</td>\n",
       "      <td>14.23</td>\n",
       "      <td>1.71</td>\n",
       "      <td>2.43</td>\n",
       "      <td>15.6</td>\n",
       "      <td>127</td>\n",
       "      <td>2.80</td>\n",
       "      <td>3.06</td>\n",
       "      <td>0.28</td>\n",
       "      <td>2.29</td>\n",
       "      <td>5.64</td>\n",
       "      <td>1.04</td>\n",
       "      <td>3.92</td>\n",
       "      <td>1065</td>\n",
       "    </tr>\n",
       "    <tr>\n",
       "      <th>1</th>\n",
       "      <td>1</td>\n",
       "      <td>13.20</td>\n",
       "      <td>1.78</td>\n",
       "      <td>2.14</td>\n",
       "      <td>11.2</td>\n",
       "      <td>100</td>\n",
       "      <td>2.65</td>\n",
       "      <td>2.76</td>\n",
       "      <td>0.26</td>\n",
       "      <td>1.28</td>\n",
       "      <td>4.38</td>\n",
       "      <td>1.05</td>\n",
       "      <td>3.40</td>\n",
       "      <td>1050</td>\n",
       "    </tr>\n",
       "    <tr>\n",
       "      <th>2</th>\n",
       "      <td>1</td>\n",
       "      <td>13.16</td>\n",
       "      <td>2.36</td>\n",
       "      <td>2.67</td>\n",
       "      <td>18.6</td>\n",
       "      <td>101</td>\n",
       "      <td>2.80</td>\n",
       "      <td>3.24</td>\n",
       "      <td>0.30</td>\n",
       "      <td>2.81</td>\n",
       "      <td>5.68</td>\n",
       "      <td>1.03</td>\n",
       "      <td>3.17</td>\n",
       "      <td>1185</td>\n",
       "    </tr>\n",
       "    <tr>\n",
       "      <th>3</th>\n",
       "      <td>1</td>\n",
       "      <td>14.37</td>\n",
       "      <td>1.95</td>\n",
       "      <td>2.50</td>\n",
       "      <td>16.8</td>\n",
       "      <td>113</td>\n",
       "      <td>3.85</td>\n",
       "      <td>3.49</td>\n",
       "      <td>0.24</td>\n",
       "      <td>2.18</td>\n",
       "      <td>7.80</td>\n",
       "      <td>0.86</td>\n",
       "      <td>3.45</td>\n",
       "      <td>1480</td>\n",
       "    </tr>\n",
       "    <tr>\n",
       "      <th>4</th>\n",
       "      <td>1</td>\n",
       "      <td>13.24</td>\n",
       "      <td>2.59</td>\n",
       "      <td>2.87</td>\n",
       "      <td>21.0</td>\n",
       "      <td>118</td>\n",
       "      <td>2.80</td>\n",
       "      <td>2.69</td>\n",
       "      <td>0.39</td>\n",
       "      <td>1.82</td>\n",
       "      <td>4.32</td>\n",
       "      <td>1.04</td>\n",
       "      <td>2.93</td>\n",
       "      <td>735</td>\n",
       "    </tr>\n",
       "  </tbody>\n",
       "</table>\n",
       "</div>"
      ],
      "text/plain": [
       "   Class  Alcohol  MalicAcid   Ash   Acl   Mg  Phenols  Flav  Non-Flav  \\\n",
       "0      1    14.23       1.71  2.43  15.6  127     2.80  3.06      0.28   \n",
       "1      1    13.20       1.78  2.14  11.2  100     2.65  2.76      0.26   \n",
       "2      1    13.16       2.36  2.67  18.6  101     2.80  3.24      0.30   \n",
       "3      1    14.37       1.95  2.50  16.8  113     3.85  3.49      0.24   \n",
       "4      1    13.24       2.59  2.87  21.0  118     2.80  2.69      0.39   \n",
       "\n",
       "   Proanth  Color   Hue    OD  Proline  \n",
       "0     2.29   5.64  1.04  3.92     1065  \n",
       "1     1.28   4.38  1.05  3.40     1050  \n",
       "2     2.81   5.68  1.03  3.17     1185  \n",
       "3     2.18   7.80  0.86  3.45     1480  \n",
       "4     1.82   4.32  1.04  2.93      735  "
      ]
     },
     "execution_count": 6,
     "metadata": {},
     "output_type": "execute_result"
    }
   ],
   "source": [
    "df.head()"
   ]
  },
  {
   "cell_type": "code",
   "execution_count": 7,
   "metadata": {},
   "outputs": [
    {
     "data": {
      "text/plain": [
       "(178, 14)"
      ]
     },
     "execution_count": 7,
     "metadata": {},
     "output_type": "execute_result"
    }
   ],
   "source": [
    "df.shape"
   ]
  },
  {
   "cell_type": "markdown",
   "metadata": {},
   "source": [
    "There are 178 rows and 14 columns in the given dataset. 'Class' is the target variable."
   ]
  },
  {
   "cell_type": "code",
   "execution_count": 10,
   "metadata": {},
   "outputs": [
    {
     "data": {
      "text/plain": [
       "1    59\n",
       "2    71\n",
       "3    48\n",
       "Name: Class, dtype: int64"
      ]
     },
     "execution_count": 10,
     "metadata": {},
     "output_type": "execute_result"
    }
   ],
   "source": [
    "df['Class'].value_counts().sort_index()"
   ]
  },
  {
   "cell_type": "markdown",
   "metadata": {},
   "source": [
    "So, there are 59 responses as Class 1, 71 responses as Class 2 and 48 responses as Class 3."
   ]
  },
  {
   "cell_type": "code",
   "execution_count": 14,
   "metadata": {},
   "outputs": [
    {
     "data": {
      "text/plain": [
       "Class        False\n",
       "Alcohol      False\n",
       "MalicAcid    False\n",
       "Ash          False\n",
       "Acl          False\n",
       "Mg           False\n",
       "Phenols      False\n",
       "Flav         False\n",
       "Non-Flav     False\n",
       "Proanth      False\n",
       "Color        False\n",
       "Hue          False\n",
       "OD           False\n",
       "Proline      False\n",
       "dtype: bool"
      ]
     },
     "execution_count": 14,
     "metadata": {},
     "output_type": "execute_result"
    }
   ],
   "source": [
    "df.isnull().any()"
   ]
  },
  {
   "cell_type": "markdown",
   "metadata": {},
   "source": [
    "There are no missing values in the given dataset."
   ]
  },
  {
   "cell_type": "code",
   "execution_count": 15,
   "metadata": {},
   "outputs": [
    {
     "name": "stdout",
     "output_type": "stream",
     "text": [
      "<class 'pandas.core.frame.DataFrame'>\n",
      "RangeIndex: 178 entries, 0 to 177\n",
      "Data columns (total 14 columns):\n",
      "Class        178 non-null int64\n",
      "Alcohol      178 non-null float64\n",
      "MalicAcid    178 non-null float64\n",
      "Ash          178 non-null float64\n",
      "Acl          178 non-null float64\n",
      "Mg           178 non-null int64\n",
      "Phenols      178 non-null float64\n",
      "Flav         178 non-null float64\n",
      "Non-Flav     178 non-null float64\n",
      "Proanth      178 non-null float64\n",
      "Color        178 non-null float64\n",
      "Hue          178 non-null float64\n",
      "OD           178 non-null float64\n",
      "Proline      178 non-null int64\n",
      "dtypes: float64(11), int64(3)\n",
      "memory usage: 19.5 KB\n"
     ]
    }
   ],
   "source": [
    "df.info()"
   ]
  },
  {
   "cell_type": "code",
   "execution_count": 13,
   "metadata": {},
   "outputs": [
    {
     "data": {
      "text/html": [
       "<div>\n",
       "<style scoped>\n",
       "    .dataframe tbody tr th:only-of-type {\n",
       "        vertical-align: middle;\n",
       "    }\n",
       "\n",
       "    .dataframe tbody tr th {\n",
       "        vertical-align: top;\n",
       "    }\n",
       "\n",
       "    .dataframe thead th {\n",
       "        text-align: right;\n",
       "    }\n",
       "</style>\n",
       "<table border=\"1\" class=\"dataframe\">\n",
       "  <thead>\n",
       "    <tr style=\"text-align: right;\">\n",
       "      <th></th>\n",
       "      <th>count</th>\n",
       "      <th>mean</th>\n",
       "      <th>std</th>\n",
       "      <th>min</th>\n",
       "      <th>25%</th>\n",
       "      <th>50%</th>\n",
       "      <th>75%</th>\n",
       "      <th>max</th>\n",
       "    </tr>\n",
       "  </thead>\n",
       "  <tbody>\n",
       "    <tr>\n",
       "      <th>Class</th>\n",
       "      <td>178.0</td>\n",
       "      <td>1.938202</td>\n",
       "      <td>0.775035</td>\n",
       "      <td>1.00</td>\n",
       "      <td>1.0000</td>\n",
       "      <td>2.000</td>\n",
       "      <td>3.0000</td>\n",
       "      <td>3.00</td>\n",
       "    </tr>\n",
       "    <tr>\n",
       "      <th>Alcohol</th>\n",
       "      <td>178.0</td>\n",
       "      <td>13.000618</td>\n",
       "      <td>0.811827</td>\n",
       "      <td>11.03</td>\n",
       "      <td>12.3625</td>\n",
       "      <td>13.050</td>\n",
       "      <td>13.6775</td>\n",
       "      <td>14.83</td>\n",
       "    </tr>\n",
       "    <tr>\n",
       "      <th>MalicAcid</th>\n",
       "      <td>178.0</td>\n",
       "      <td>2.336348</td>\n",
       "      <td>1.117146</td>\n",
       "      <td>0.74</td>\n",
       "      <td>1.6025</td>\n",
       "      <td>1.865</td>\n",
       "      <td>3.0825</td>\n",
       "      <td>5.80</td>\n",
       "    </tr>\n",
       "    <tr>\n",
       "      <th>Ash</th>\n",
       "      <td>178.0</td>\n",
       "      <td>2.366517</td>\n",
       "      <td>0.274344</td>\n",
       "      <td>1.36</td>\n",
       "      <td>2.2100</td>\n",
       "      <td>2.360</td>\n",
       "      <td>2.5575</td>\n",
       "      <td>3.23</td>\n",
       "    </tr>\n",
       "    <tr>\n",
       "      <th>Acl</th>\n",
       "      <td>178.0</td>\n",
       "      <td>19.494944</td>\n",
       "      <td>3.339564</td>\n",
       "      <td>10.60</td>\n",
       "      <td>17.2000</td>\n",
       "      <td>19.500</td>\n",
       "      <td>21.5000</td>\n",
       "      <td>30.00</td>\n",
       "    </tr>\n",
       "    <tr>\n",
       "      <th>Mg</th>\n",
       "      <td>178.0</td>\n",
       "      <td>99.741573</td>\n",
       "      <td>14.282484</td>\n",
       "      <td>70.00</td>\n",
       "      <td>88.0000</td>\n",
       "      <td>98.000</td>\n",
       "      <td>107.0000</td>\n",
       "      <td>162.00</td>\n",
       "    </tr>\n",
       "    <tr>\n",
       "      <th>Phenols</th>\n",
       "      <td>178.0</td>\n",
       "      <td>2.295112</td>\n",
       "      <td>0.625851</td>\n",
       "      <td>0.98</td>\n",
       "      <td>1.7425</td>\n",
       "      <td>2.355</td>\n",
       "      <td>2.8000</td>\n",
       "      <td>3.88</td>\n",
       "    </tr>\n",
       "    <tr>\n",
       "      <th>Flav</th>\n",
       "      <td>178.0</td>\n",
       "      <td>2.029270</td>\n",
       "      <td>0.998859</td>\n",
       "      <td>0.34</td>\n",
       "      <td>1.2050</td>\n",
       "      <td>2.135</td>\n",
       "      <td>2.8750</td>\n",
       "      <td>5.08</td>\n",
       "    </tr>\n",
       "    <tr>\n",
       "      <th>Non-Flav</th>\n",
       "      <td>178.0</td>\n",
       "      <td>0.361854</td>\n",
       "      <td>0.124453</td>\n",
       "      <td>0.13</td>\n",
       "      <td>0.2700</td>\n",
       "      <td>0.340</td>\n",
       "      <td>0.4375</td>\n",
       "      <td>0.66</td>\n",
       "    </tr>\n",
       "    <tr>\n",
       "      <th>Proanth</th>\n",
       "      <td>178.0</td>\n",
       "      <td>1.590899</td>\n",
       "      <td>0.572359</td>\n",
       "      <td>0.41</td>\n",
       "      <td>1.2500</td>\n",
       "      <td>1.555</td>\n",
       "      <td>1.9500</td>\n",
       "      <td>3.58</td>\n",
       "    </tr>\n",
       "    <tr>\n",
       "      <th>Color</th>\n",
       "      <td>178.0</td>\n",
       "      <td>5.058090</td>\n",
       "      <td>2.318286</td>\n",
       "      <td>1.28</td>\n",
       "      <td>3.2200</td>\n",
       "      <td>4.690</td>\n",
       "      <td>6.2000</td>\n",
       "      <td>13.00</td>\n",
       "    </tr>\n",
       "    <tr>\n",
       "      <th>Hue</th>\n",
       "      <td>178.0</td>\n",
       "      <td>0.957449</td>\n",
       "      <td>0.228572</td>\n",
       "      <td>0.48</td>\n",
       "      <td>0.7825</td>\n",
       "      <td>0.965</td>\n",
       "      <td>1.1200</td>\n",
       "      <td>1.71</td>\n",
       "    </tr>\n",
       "    <tr>\n",
       "      <th>OD</th>\n",
       "      <td>178.0</td>\n",
       "      <td>2.611685</td>\n",
       "      <td>0.709990</td>\n",
       "      <td>1.27</td>\n",
       "      <td>1.9375</td>\n",
       "      <td>2.780</td>\n",
       "      <td>3.1700</td>\n",
       "      <td>4.00</td>\n",
       "    </tr>\n",
       "    <tr>\n",
       "      <th>Proline</th>\n",
       "      <td>178.0</td>\n",
       "      <td>746.893258</td>\n",
       "      <td>314.907474</td>\n",
       "      <td>278.00</td>\n",
       "      <td>500.5000</td>\n",
       "      <td>673.500</td>\n",
       "      <td>985.0000</td>\n",
       "      <td>1680.00</td>\n",
       "    </tr>\n",
       "  </tbody>\n",
       "</table>\n",
       "</div>"
      ],
      "text/plain": [
       "           count        mean         std     min       25%      50%       75%  \\\n",
       "Class      178.0    1.938202    0.775035    1.00    1.0000    2.000    3.0000   \n",
       "Alcohol    178.0   13.000618    0.811827   11.03   12.3625   13.050   13.6775   \n",
       "MalicAcid  178.0    2.336348    1.117146    0.74    1.6025    1.865    3.0825   \n",
       "Ash        178.0    2.366517    0.274344    1.36    2.2100    2.360    2.5575   \n",
       "Acl        178.0   19.494944    3.339564   10.60   17.2000   19.500   21.5000   \n",
       "Mg         178.0   99.741573   14.282484   70.00   88.0000   98.000  107.0000   \n",
       "Phenols    178.0    2.295112    0.625851    0.98    1.7425    2.355    2.8000   \n",
       "Flav       178.0    2.029270    0.998859    0.34    1.2050    2.135    2.8750   \n",
       "Non-Flav   178.0    0.361854    0.124453    0.13    0.2700    0.340    0.4375   \n",
       "Proanth    178.0    1.590899    0.572359    0.41    1.2500    1.555    1.9500   \n",
       "Color      178.0    5.058090    2.318286    1.28    3.2200    4.690    6.2000   \n",
       "Hue        178.0    0.957449    0.228572    0.48    0.7825    0.965    1.1200   \n",
       "OD         178.0    2.611685    0.709990    1.27    1.9375    2.780    3.1700   \n",
       "Proline    178.0  746.893258  314.907474  278.00  500.5000  673.500  985.0000   \n",
       "\n",
       "               max  \n",
       "Class         3.00  \n",
       "Alcohol      14.83  \n",
       "MalicAcid     5.80  \n",
       "Ash           3.23  \n",
       "Acl          30.00  \n",
       "Mg          162.00  \n",
       "Phenols       3.88  \n",
       "Flav          5.08  \n",
       "Non-Flav      0.66  \n",
       "Proanth       3.58  \n",
       "Color        13.00  \n",
       "Hue           1.71  \n",
       "OD            4.00  \n",
       "Proline    1680.00  "
      ]
     },
     "execution_count": 13,
     "metadata": {},
     "output_type": "execute_result"
    }
   ],
   "source": [
    "df.describe().T"
   ]
  },
  {
   "cell_type": "markdown",
   "metadata": {},
   "source": [
    "### Outlier Detection:"
   ]
  },
  {
   "cell_type": "code",
   "execution_count": 44,
   "metadata": {},
   "outputs": [
    {
     "data": {
      "text/plain": [
       "<matplotlib.axes._subplots.AxesSubplot at 0x14e0c52aa90>"
      ]
     },
     "execution_count": 44,
     "metadata": {},
     "output_type": "execute_result"
    },
    {
     "data": {
      "image/png": "[encoded data removed]",
      "text/plain": [
       "<Figure size 1080x720 with 1 Axes>"
      ]
     },
     "metadata": {},
     "output_type": "display_data"
    }
   ],
   "source": [
    "from sklearn.preprocessing import StandardScaler\n",
    "x=df.drop(['Class'],axis=1)\n",
    "scaler=StandardScaler().fit(x)\n",
    "y=pd.DataFrame(scaler.transform(x),columns=x.columns)\n",
    "y.boxplot(vert=False,figsize=(15,10))"
   ]
  },
  {
   "cell_type": "markdown",
   "metadata": {},
   "source": [
    "SO, for MalicAcid,Ash,Acl,Mg,Proanth,Color and Hue are having outliers. Among them Color and Mg are having more outliers."
   ]
  },
  {
   "cell_type": "code",
   "execution_count": 45,
   "metadata": {},
   "outputs": [
    {
     "name": "stdout",
     "output_type": "stream",
     "text": [
      "IQR : 2.9800000000000004\n",
      "Q1 : 3.2199999999999998\n",
      "Q3 : 6.2\n",
      "LW : -1.2500000000000009 \n",
      "HW : 10.670000000000002\n"
     ]
    }
   ],
   "source": [
    "Q1 = df.Color.quantile(0.25)\n",
    "Q3 = df.Color.quantile(0.75)\n",
    "IQR = Q3 - Q1\n",
    "print(\"IQR :\",IQR)\n",
    "print(\"Q1 :\",Q1)\n",
    "print(\"Q3 :\",Q3)\n",
    "LW = (Q1 - 1.5*IQR)\n",
    "HW = (Q3 + 1.5*IQR)\n",
    "print(\"LW :\",LW, \"\\nHW :\",HW)"
   ]
  },
  {
   "cell_type": "code",
   "execution_count": 46,
   "metadata": {},
   "outputs": [
    {
     "data": {
      "text/html": [
       "<div>\n",
       "<style scoped>\n",
       "    .dataframe tbody tr th:only-of-type {\n",
       "        vertical-align: middle;\n",
       "    }\n",
       "\n",
       "    .dataframe tbody tr th {\n",
       "        vertical-align: top;\n",
       "    }\n",
       "\n",
       "    .dataframe thead th {\n",
       "        text-align: right;\n",
       "    }\n",
       "</style>\n",
       "<table border=\"1\" class=\"dataframe\">\n",
       "  <thead>\n",
       "    <tr style=\"text-align: right;\">\n",
       "      <th></th>\n",
       "      <th>Class</th>\n",
       "      <th>Alcohol</th>\n",
       "      <th>MalicAcid</th>\n",
       "      <th>Ash</th>\n",
       "      <th>Acl</th>\n",
       "      <th>Mg</th>\n",
       "      <th>Phenols</th>\n",
       "      <th>Flav</th>\n",
       "      <th>Non-Flav</th>\n",
       "      <th>Proanth</th>\n",
       "      <th>Color</th>\n",
       "      <th>Hue</th>\n",
       "      <th>OD</th>\n",
       "      <th>Proline</th>\n",
       "    </tr>\n",
       "  </thead>\n",
       "  <tbody>\n",
       "    <tr>\n",
       "      <th>151</th>\n",
       "      <td>3</td>\n",
       "      <td>12.79</td>\n",
       "      <td>2.67</td>\n",
       "      <td>2.48</td>\n",
       "      <td>22.0</td>\n",
       "      <td>112</td>\n",
       "      <td>1.48</td>\n",
       "      <td>1.36</td>\n",
       "      <td>0.24</td>\n",
       "      <td>1.26</td>\n",
       "      <td>10.80</td>\n",
       "      <td>0.48</td>\n",
       "      <td>1.47</td>\n",
       "      <td>480</td>\n",
       "    </tr>\n",
       "    <tr>\n",
       "      <th>158</th>\n",
       "      <td>3</td>\n",
       "      <td>14.34</td>\n",
       "      <td>1.68</td>\n",
       "      <td>2.70</td>\n",
       "      <td>25.0</td>\n",
       "      <td>98</td>\n",
       "      <td>2.80</td>\n",
       "      <td>1.31</td>\n",
       "      <td>0.53</td>\n",
       "      <td>2.70</td>\n",
       "      <td>13.00</td>\n",
       "      <td>0.57</td>\n",
       "      <td>1.96</td>\n",
       "      <td>660</td>\n",
       "    </tr>\n",
       "    <tr>\n",
       "      <th>159</th>\n",
       "      <td>3</td>\n",
       "      <td>13.48</td>\n",
       "      <td>1.67</td>\n",
       "      <td>2.64</td>\n",
       "      <td>22.5</td>\n",
       "      <td>89</td>\n",
       "      <td>2.60</td>\n",
       "      <td>1.10</td>\n",
       "      <td>0.52</td>\n",
       "      <td>2.29</td>\n",
       "      <td>11.75</td>\n",
       "      <td>0.57</td>\n",
       "      <td>1.78</td>\n",
       "      <td>620</td>\n",
       "    </tr>\n",
       "    <tr>\n",
       "      <th>166</th>\n",
       "      <td>3</td>\n",
       "      <td>13.45</td>\n",
       "      <td>3.70</td>\n",
       "      <td>2.60</td>\n",
       "      <td>23.0</td>\n",
       "      <td>111</td>\n",
       "      <td>1.70</td>\n",
       "      <td>0.92</td>\n",
       "      <td>0.43</td>\n",
       "      <td>1.46</td>\n",
       "      <td>10.68</td>\n",
       "      <td>0.85</td>\n",
       "      <td>1.56</td>\n",
       "      <td>695</td>\n",
       "    </tr>\n",
       "  </tbody>\n",
       "</table>\n",
       "</div>"
      ],
      "text/plain": [
       "     Class  Alcohol  MalicAcid   Ash   Acl   Mg  Phenols  Flav  Non-Flav  \\\n",
       "151      3    12.79       2.67  2.48  22.0  112     1.48  1.36      0.24   \n",
       "158      3    14.34       1.68  2.70  25.0   98     2.80  1.31      0.53   \n",
       "159      3    13.48       1.67  2.64  22.5   89     2.60  1.10      0.52   \n",
       "166      3    13.45       3.70  2.60  23.0  111     1.70  0.92      0.43   \n",
       "\n",
       "     Proanth  Color   Hue    OD  Proline  \n",
       "151     1.26  10.80  0.48  1.47      480  \n",
       "158     2.70  13.00  0.57  1.96      660  \n",
       "159     2.29  11.75  0.57  1.78      620  \n",
       "166     1.46  10.68  0.85  1.56      695  "
      ]
     },
     "execution_count": 46,
     "metadata": {},
     "output_type": "execute_result"
    }
   ],
   "source": [
    "res = (df['Color'] < (Q1 - 1.5 * IQR)) | (df['Color'] > (Q3 + 1.5 * IQR))\n",
    "df[res]"
   ]
  },
  {
   "cell_type": "markdown",
   "metadata": {},
   "source": [
    "The above four rows are the outliers in 'Color' feature."
   ]
  },
  {
   "cell_type": "code",
   "execution_count": 47,
   "metadata": {},
   "outputs": [
    {
     "name": "stdout",
     "output_type": "stream",
     "text": [
      "IQR : 19.0\n",
      "Q1 : 88.0\n",
      "Q3 : 107.0\n",
      "LW : 59.5 \n",
      "HW : 135.5\n"
     ]
    }
   ],
   "source": [
    "Q1 = df.Mg.quantile(0.25)\n",
    "Q3 = df.Mg.quantile(0.75)\n",
    "IQR = Q3 - Q1\n",
    "print(\"IQR :\",IQR)\n",
    "print(\"Q1 :\",Q1)\n",
    "print(\"Q3 :\",Q3)\n",
    "LW = (Q1 - 1.5*IQR)\n",
    "HW = (Q3 + 1.5*IQR)\n",
    "print(\"LW :\",LW, \"\\nHW :\",HW)"
   ]
  },
  {
   "cell_type": "code",
   "execution_count": 48,
   "metadata": {
    "scrolled": true
   },
   "outputs": [
    {
     "data": {
      "text/html": [
       "<div>\n",
       "<style scoped>\n",
       "    .dataframe tbody tr th:only-of-type {\n",
       "        vertical-align: middle;\n",
       "    }\n",
       "\n",
       "    .dataframe tbody tr th {\n",
       "        vertical-align: top;\n",
       "    }\n",
       "\n",
       "    .dataframe thead th {\n",
       "        text-align: right;\n",
       "    }\n",
       "</style>\n",
       "<table border=\"1\" class=\"dataframe\">\n",
       "  <thead>\n",
       "    <tr style=\"text-align: right;\">\n",
       "      <th></th>\n",
       "      <th>Class</th>\n",
       "      <th>Alcohol</th>\n",
       "      <th>MalicAcid</th>\n",
       "      <th>Ash</th>\n",
       "      <th>Acl</th>\n",
       "      <th>Mg</th>\n",
       "      <th>Phenols</th>\n",
       "      <th>Flav</th>\n",
       "      <th>Non-Flav</th>\n",
       "      <th>Proanth</th>\n",
       "      <th>Color</th>\n",
       "      <th>Hue</th>\n",
       "      <th>OD</th>\n",
       "      <th>Proline</th>\n",
       "    </tr>\n",
       "  </thead>\n",
       "  <tbody>\n",
       "    <tr>\n",
       "      <th>69</th>\n",
       "      <td>2</td>\n",
       "      <td>12.21</td>\n",
       "      <td>1.19</td>\n",
       "      <td>1.75</td>\n",
       "      <td>16.8</td>\n",
       "      <td>151</td>\n",
       "      <td>1.85</td>\n",
       "      <td>1.28</td>\n",
       "      <td>0.14</td>\n",
       "      <td>2.50</td>\n",
       "      <td>2.85</td>\n",
       "      <td>1.28</td>\n",
       "      <td>3.07</td>\n",
       "      <td>718</td>\n",
       "    </tr>\n",
       "    <tr>\n",
       "      <th>73</th>\n",
       "      <td>2</td>\n",
       "      <td>12.99</td>\n",
       "      <td>1.67</td>\n",
       "      <td>2.60</td>\n",
       "      <td>30.0</td>\n",
       "      <td>139</td>\n",
       "      <td>3.30</td>\n",
       "      <td>2.89</td>\n",
       "      <td>0.21</td>\n",
       "      <td>1.96</td>\n",
       "      <td>3.35</td>\n",
       "      <td>1.31</td>\n",
       "      <td>3.50</td>\n",
       "      <td>985</td>\n",
       "    </tr>\n",
       "    <tr>\n",
       "      <th>78</th>\n",
       "      <td>2</td>\n",
       "      <td>12.33</td>\n",
       "      <td>0.99</td>\n",
       "      <td>1.95</td>\n",
       "      <td>14.8</td>\n",
       "      <td>136</td>\n",
       "      <td>1.90</td>\n",
       "      <td>1.85</td>\n",
       "      <td>0.35</td>\n",
       "      <td>2.76</td>\n",
       "      <td>3.40</td>\n",
       "      <td>1.06</td>\n",
       "      <td>2.31</td>\n",
       "      <td>750</td>\n",
       "    </tr>\n",
       "    <tr>\n",
       "      <th>95</th>\n",
       "      <td>2</td>\n",
       "      <td>12.47</td>\n",
       "      <td>1.52</td>\n",
       "      <td>2.20</td>\n",
       "      <td>19.0</td>\n",
       "      <td>162</td>\n",
       "      <td>2.50</td>\n",
       "      <td>2.27</td>\n",
       "      <td>0.32</td>\n",
       "      <td>3.28</td>\n",
       "      <td>2.60</td>\n",
       "      <td>1.16</td>\n",
       "      <td>2.63</td>\n",
       "      <td>937</td>\n",
       "    </tr>\n",
       "  </tbody>\n",
       "</table>\n",
       "</div>"
      ],
      "text/plain": [
       "    Class  Alcohol  MalicAcid   Ash   Acl   Mg  Phenols  Flav  Non-Flav  \\\n",
       "69      2    12.21       1.19  1.75  16.8  151     1.85  1.28      0.14   \n",
       "73      2    12.99       1.67  2.60  30.0  139     3.30  2.89      0.21   \n",
       "78      2    12.33       0.99  1.95  14.8  136     1.90  1.85      0.35   \n",
       "95      2    12.47       1.52  2.20  19.0  162     2.50  2.27      0.32   \n",
       "\n",
       "    Proanth  Color   Hue    OD  Proline  \n",
       "69     2.50   2.85  1.28  3.07      718  \n",
       "73     1.96   3.35  1.31  3.50      985  \n",
       "78     2.76   3.40  1.06  2.31      750  \n",
       "95     3.28   2.60  1.16  2.63      937  "
      ]
     },
     "execution_count": 48,
     "metadata": {},
     "output_type": "execute_result"
    }
   ],
   "source": [
    "res = (df['Mg'] < (Q1 - 1.5 * IQR)) | (df['Mg'] > (Q3 + 1.5 * IQR))\n",
    "df[res]"
   ]
  },
  {
   "cell_type": "markdown",
   "metadata": {},
   "source": [
    "The above four rows are the outliers in 'Mg' feature."
   ]
  },
  {
   "cell_type": "markdown",
   "metadata": {},
   "source": [
    "### Standardization:"
   ]
  },
  {
   "cell_type": "code",
   "execution_count": 128,
   "metadata": {},
   "outputs": [],
   "source": [
    "x = df.drop(['Class'],axis=1)\n",
    "y = df['Class']"
   ]
  },
  {
   "cell_type": "code",
   "execution_count": 133,
   "metadata": {},
   "outputs": [],
   "source": [
    "# To scale the dimensions we need scale function which is part of sckikit preprocessing libraries\n",
    "\n",
    "from sklearn import preprocessing\n",
    "# Get column names first\n",
    "names = x.columns\n",
    "# Create the Scaler object\n",
    "scaler = preprocessing.scale(x)\n",
    "X = pd.DataFrame(scaler, columns=names)\n",
    "Y = df['Class']"
   ]
  },
  {
   "cell_type": "code",
   "execution_count": 134,
   "metadata": {},
   "outputs": [
    {
     "data": {
      "text/html": [
       "<div>\n",
       "<style scoped>\n",
       "    .dataframe tbody tr th:only-of-type {\n",
       "        vertical-align: middle;\n",
       "    }\n",
       "\n",
       "    .dataframe tbody tr th {\n",
       "        vertical-align: top;\n",
       "    }\n",
       "\n",
       "    .dataframe thead th {\n",
       "        text-align: right;\n",
       "    }\n",
       "</style>\n",
       "<table border=\"1\" class=\"dataframe\">\n",
       "  <thead>\n",
       "    <tr style=\"text-align: right;\">\n",
       "      <th></th>\n",
       "      <th>Alcohol</th>\n",
       "      <th>MalicAcid</th>\n",
       "      <th>Ash</th>\n",
       "      <th>Acl</th>\n",
       "      <th>Mg</th>\n",
       "      <th>Phenols</th>\n",
       "      <th>Flav</th>\n",
       "      <th>Non-Flav</th>\n",
       "      <th>Proanth</th>\n",
       "      <th>Color</th>\n",
       "      <th>Hue</th>\n",
       "      <th>OD</th>\n",
       "      <th>Proline</th>\n",
       "    </tr>\n",
       "  </thead>\n",
       "  <tbody>\n",
       "    <tr>\n",
       "      <th>0</th>\n",
       "      <td>1.518613</td>\n",
       "      <td>-0.562250</td>\n",
       "      <td>0.232053</td>\n",
       "      <td>-1.169593</td>\n",
       "      <td>1.913905</td>\n",
       "      <td>0.808997</td>\n",
       "      <td>1.034819</td>\n",
       "      <td>-0.659563</td>\n",
       "      <td>1.224884</td>\n",
       "      <td>0.251717</td>\n",
       "      <td>0.362177</td>\n",
       "      <td>1.847920</td>\n",
       "      <td>1.013009</td>\n",
       "    </tr>\n",
       "    <tr>\n",
       "      <th>1</th>\n",
       "      <td>0.246290</td>\n",
       "      <td>-0.499413</td>\n",
       "      <td>-0.827996</td>\n",
       "      <td>-2.490847</td>\n",
       "      <td>0.018145</td>\n",
       "      <td>0.568648</td>\n",
       "      <td>0.733629</td>\n",
       "      <td>-0.820719</td>\n",
       "      <td>-0.544721</td>\n",
       "      <td>-0.293321</td>\n",
       "      <td>0.406051</td>\n",
       "      <td>1.113449</td>\n",
       "      <td>0.965242</td>\n",
       "    </tr>\n",
       "    <tr>\n",
       "      <th>2</th>\n",
       "      <td>0.196879</td>\n",
       "      <td>0.021231</td>\n",
       "      <td>1.109334</td>\n",
       "      <td>-0.268738</td>\n",
       "      <td>0.088358</td>\n",
       "      <td>0.808997</td>\n",
       "      <td>1.215533</td>\n",
       "      <td>-0.498407</td>\n",
       "      <td>2.135968</td>\n",
       "      <td>0.269020</td>\n",
       "      <td>0.318304</td>\n",
       "      <td>0.788587</td>\n",
       "      <td>1.395148</td>\n",
       "    </tr>\n",
       "    <tr>\n",
       "      <th>3</th>\n",
       "      <td>1.691550</td>\n",
       "      <td>-0.346811</td>\n",
       "      <td>0.487926</td>\n",
       "      <td>-0.809251</td>\n",
       "      <td>0.930918</td>\n",
       "      <td>2.491446</td>\n",
       "      <td>1.466525</td>\n",
       "      <td>-0.981875</td>\n",
       "      <td>1.032155</td>\n",
       "      <td>1.186068</td>\n",
       "      <td>-0.427544</td>\n",
       "      <td>1.184071</td>\n",
       "      <td>2.334574</td>\n",
       "    </tr>\n",
       "    <tr>\n",
       "      <th>4</th>\n",
       "      <td>0.295700</td>\n",
       "      <td>0.227694</td>\n",
       "      <td>1.840403</td>\n",
       "      <td>0.451946</td>\n",
       "      <td>1.281985</td>\n",
       "      <td>0.808997</td>\n",
       "      <td>0.663351</td>\n",
       "      <td>0.226796</td>\n",
       "      <td>0.401404</td>\n",
       "      <td>-0.319276</td>\n",
       "      <td>0.362177</td>\n",
       "      <td>0.449601</td>\n",
       "      <td>-0.037874</td>\n",
       "    </tr>\n",
       "  </tbody>\n",
       "</table>\n",
       "</div>"
      ],
      "text/plain": [
       "    Alcohol  MalicAcid       Ash       Acl        Mg   Phenols      Flav  \\\n",
       "0  1.518613  -0.562250  0.232053 -1.169593  1.913905  0.808997  1.034819   \n",
       "1  0.246290  -0.499413 -0.827996 -2.490847  0.018145  0.568648  0.733629   \n",
       "2  0.196879   0.021231  1.109334 -0.268738  0.088358  0.808997  1.215533   \n",
       "3  1.691550  -0.346811  0.487926 -0.809251  0.930918  2.491446  1.466525   \n",
       "4  0.295700   0.227694  1.840403  0.451946  1.281985  0.808997  0.663351   \n",
       "\n",
       "   Non-Flav   Proanth     Color       Hue        OD   Proline  \n",
       "0 -0.659563  1.224884  0.251717  0.362177  1.847920  1.013009  \n",
       "1 -0.820719 -0.544721 -0.293321  0.406051  1.113449  0.965242  \n",
       "2 -0.498407  2.135968  0.269020  0.318304  0.788587  1.395148  \n",
       "3 -0.981875  1.032155  1.186068 -0.427544  1.184071  2.334574  \n",
       "4  0.226796  0.401404 -0.319276  0.362177  0.449601 -0.037874  "
      ]
     },
     "execution_count": 134,
     "metadata": {},
     "output_type": "execute_result"
    }
   ],
   "source": [
    "X.head()"
   ]
  },
  {
   "cell_type": "markdown",
   "metadata": {},
   "source": [
    "### PCA Application:"
   ]
  },
  {
   "cell_type": "code",
   "execution_count": 135,
   "metadata": {},
   "outputs": [],
   "source": [
    "from sklearn.decomposition import PCA\n",
    "pca = PCA(n_components=13)\n",
    "principalComponents = pca.fit_transform(X)\n",
    "principalDf = pd.DataFrame(data = principalComponents,columns = ['Comp1','Comp2','Comp3','Comp4','Comp5','Comp6','Comp7','Comp8','Comp9','Comp10','Comp11','Comp12','Comp13'])"
   ]
  },
  {
   "cell_type": "code",
   "execution_count": 136,
   "metadata": {},
   "outputs": [
    {
     "data": {
      "text/html": [
       "<div>\n",
       "<style scoped>\n",
       "    .dataframe tbody tr th:only-of-type {\n",
       "        vertical-align: middle;\n",
       "    }\n",
       "\n",
       "    .dataframe tbody tr th {\n",
       "        vertical-align: top;\n",
       "    }\n",
       "\n",
       "    .dataframe thead th {\n",
       "        text-align: right;\n",
       "    }\n",
       "</style>\n",
       "<table border=\"1\" class=\"dataframe\">\n",
       "  <thead>\n",
       "    <tr style=\"text-align: right;\">\n",
       "      <th></th>\n",
       "      <th>Comp1</th>\n",
       "      <th>Comp2</th>\n",
       "      <th>Comp3</th>\n",
       "      <th>Comp4</th>\n",
       "      <th>Comp5</th>\n",
       "      <th>Comp6</th>\n",
       "      <th>Comp7</th>\n",
       "      <th>Comp8</th>\n",
       "      <th>Comp9</th>\n",
       "      <th>Comp10</th>\n",
       "      <th>Comp11</th>\n",
       "      <th>Comp12</th>\n",
       "      <th>Comp13</th>\n",
       "    </tr>\n",
       "  </thead>\n",
       "  <tbody>\n",
       "    <tr>\n",
       "      <th>0</th>\n",
       "      <td>3.316751</td>\n",
       "      <td>-1.443463</td>\n",
       "      <td>-0.165739</td>\n",
       "      <td>-0.215631</td>\n",
       "      <td>0.693043</td>\n",
       "      <td>-0.223880</td>\n",
       "      <td>0.596427</td>\n",
       "      <td>0.065139</td>\n",
       "      <td>0.641443</td>\n",
       "      <td>1.020956</td>\n",
       "      <td>-0.451563</td>\n",
       "      <td>0.540810</td>\n",
       "      <td>-0.066239</td>\n",
       "    </tr>\n",
       "    <tr>\n",
       "      <th>1</th>\n",
       "      <td>2.209465</td>\n",
       "      <td>0.333393</td>\n",
       "      <td>-2.026457</td>\n",
       "      <td>-0.291358</td>\n",
       "      <td>-0.257655</td>\n",
       "      <td>-0.927120</td>\n",
       "      <td>0.053776</td>\n",
       "      <td>1.024416</td>\n",
       "      <td>-0.308847</td>\n",
       "      <td>0.159701</td>\n",
       "      <td>-0.142657</td>\n",
       "      <td>0.388238</td>\n",
       "      <td>0.003637</td>\n",
       "    </tr>\n",
       "    <tr>\n",
       "      <th>2</th>\n",
       "      <td>2.516740</td>\n",
       "      <td>-1.031151</td>\n",
       "      <td>0.982819</td>\n",
       "      <td>0.724902</td>\n",
       "      <td>-0.251033</td>\n",
       "      <td>0.549276</td>\n",
       "      <td>0.424205</td>\n",
       "      <td>-0.344216</td>\n",
       "      <td>-1.177834</td>\n",
       "      <td>0.113361</td>\n",
       "      <td>-0.286673</td>\n",
       "      <td>0.000584</td>\n",
       "      <td>0.021717</td>\n",
       "    </tr>\n",
       "    <tr>\n",
       "      <th>3</th>\n",
       "      <td>3.757066</td>\n",
       "      <td>-2.756372</td>\n",
       "      <td>-0.176192</td>\n",
       "      <td>0.567983</td>\n",
       "      <td>-0.311842</td>\n",
       "      <td>0.114431</td>\n",
       "      <td>-0.383337</td>\n",
       "      <td>0.643593</td>\n",
       "      <td>0.052544</td>\n",
       "      <td>0.239413</td>\n",
       "      <td>0.759584</td>\n",
       "      <td>-0.242020</td>\n",
       "      <td>-0.369484</td>\n",
       "    </tr>\n",
       "    <tr>\n",
       "      <th>4</th>\n",
       "      <td>1.008908</td>\n",
       "      <td>-0.869831</td>\n",
       "      <td>2.026688</td>\n",
       "      <td>-0.409766</td>\n",
       "      <td>0.298458</td>\n",
       "      <td>-0.406520</td>\n",
       "      <td>0.444074</td>\n",
       "      <td>0.416700</td>\n",
       "      <td>0.326819</td>\n",
       "      <td>-0.078366</td>\n",
       "      <td>-0.525945</td>\n",
       "      <td>-0.216664</td>\n",
       "      <td>-0.079364</td>\n",
       "    </tr>\n",
       "  </tbody>\n",
       "</table>\n",
       "</div>"
      ],
      "text/plain": [
       "      Comp1     Comp2     Comp3     Comp4     Comp5     Comp6     Comp7  \\\n",
       "0  3.316751 -1.443463 -0.165739 -0.215631  0.693043 -0.223880  0.596427   \n",
       "1  2.209465  0.333393 -2.026457 -0.291358 -0.257655 -0.927120  0.053776   \n",
       "2  2.516740 -1.031151  0.982819  0.724902 -0.251033  0.549276  0.424205   \n",
       "3  3.757066 -2.756372 -0.176192  0.567983 -0.311842  0.114431 -0.383337   \n",
       "4  1.008908 -0.869831  2.026688 -0.409766  0.298458 -0.406520  0.444074   \n",
       "\n",
       "      Comp8     Comp9    Comp10    Comp11    Comp12    Comp13  \n",
       "0  0.065139  0.641443  1.020956 -0.451563  0.540810 -0.066239  \n",
       "1  1.024416 -0.308847  0.159701 -0.142657  0.388238  0.003637  \n",
       "2 -0.344216 -1.177834  0.113361 -0.286673  0.000584  0.021717  \n",
       "3  0.643593  0.052544  0.239413  0.759584 -0.242020 -0.369484  \n",
       "4  0.416700  0.326819 -0.078366 -0.525945 -0.216664 -0.079364  "
      ]
     },
     "execution_count": 136,
     "metadata": {},
     "output_type": "execute_result"
    }
   ],
   "source": [
    "principalDf.head()"
   ]
  },
  {
   "cell_type": "code",
   "execution_count": 159,
   "metadata": {},
   "outputs": [
    {
     "data": {
      "text/plain": [
       "4.7324369775835855"
      ]
     },
     "execution_count": 159,
     "metadata": {},
     "output_type": "execute_result"
    }
   ],
   "source": [
    "principalDf['Comp1'].var()"
   ]
  },
  {
   "cell_type": "code",
   "execution_count": 160,
   "metadata": {},
   "outputs": [
    {
     "data": {
      "text/plain": [
       "0.36198848099926323"
      ]
     },
     "execution_count": 160,
     "metadata": {},
     "output_type": "execute_result"
    }
   ],
   "source": [
    "(principalDf['Comp1'].var())/(pca.explained_variance_.sum())"
   ]
  },
  {
   "cell_type": "code",
   "execution_count": 137,
   "metadata": {},
   "outputs": [
    {
     "name": "stdout",
     "output_type": "stream",
     "text": [
      "[4.73243698 2.51108093 1.45424187 0.92416587 0.85804868 0.64528221\n",
      " 0.55414147 0.35046627 0.29051203 0.25232001 0.22706428 0.16972374\n",
      " 0.10396199]\n",
      "[0.36198848 0.1920749  0.11123631 0.0706903  0.06563294 0.04935823\n",
      " 0.04238679 0.02680749 0.02222153 0.01930019 0.01736836 0.01298233\n",
      " 0.00795215]\n",
      "[0.36198848 0.55406338 0.66529969 0.73598999 0.80162293 0.85098116\n",
      " 0.89336795 0.92017544 0.94239698 0.96169717 0.97906553 0.99204785\n",
      " 1.        ]\n"
     ]
    }
   ],
   "source": [
    "print(pca.explained_variance_)\n",
    "print(pca.explained_variance_ratio_)\n",
    "print(pca.explained_variance_ratio_.cumsum())"
   ]
  },
  {
   "cell_type": "code",
   "execution_count": 138,
   "metadata": {},
   "outputs": [
    {
     "data": {
      "text/html": [
       "<div>\n",
       "<style scoped>\n",
       "    .dataframe tbody tr th:only-of-type {\n",
       "        vertical-align: middle;\n",
       "    }\n",
       "\n",
       "    .dataframe tbody tr th {\n",
       "        vertical-align: top;\n",
       "    }\n",
       "\n",
       "    .dataframe thead th {\n",
       "        text-align: right;\n",
       "    }\n",
       "</style>\n",
       "<table border=\"1\" class=\"dataframe\">\n",
       "  <thead>\n",
       "    <tr style=\"text-align: right;\">\n",
       "      <th></th>\n",
       "      <th>n_comp</th>\n",
       "      <th>ex_var_ratio</th>\n",
       "    </tr>\n",
       "  </thead>\n",
       "  <tbody>\n",
       "    <tr>\n",
       "      <th>0</th>\n",
       "      <td>1</td>\n",
       "      <td>0.361988</td>\n",
       "    </tr>\n",
       "    <tr>\n",
       "      <th>1</th>\n",
       "      <td>2</td>\n",
       "      <td>0.192075</td>\n",
       "    </tr>\n",
       "    <tr>\n",
       "      <th>2</th>\n",
       "      <td>3</td>\n",
       "      <td>0.111236</td>\n",
       "    </tr>\n",
       "    <tr>\n",
       "      <th>3</th>\n",
       "      <td>4</td>\n",
       "      <td>0.070690</td>\n",
       "    </tr>\n",
       "    <tr>\n",
       "      <th>4</th>\n",
       "      <td>5</td>\n",
       "      <td>0.065633</td>\n",
       "    </tr>\n",
       "  </tbody>\n",
       "</table>\n",
       "</div>"
      ],
      "text/plain": [
       "   n_comp  ex_var_ratio\n",
       "0       1      0.361988\n",
       "1       2      0.192075\n",
       "2       3      0.111236\n",
       "3       4      0.070690\n",
       "4       5      0.065633"
      ]
     },
     "execution_count": 138,
     "metadata": {},
     "output_type": "execute_result"
    }
   ],
   "source": [
    "n_comp = np.arange(1,14)\n",
    "ex_var_ratio = pca.explained_variance_ratio_\n",
    "df1 = pd.DataFrame({'n_comp': list(n_comp), 'ex_var_ratio': ex_var_ratio},columns=['n_comp','ex_var_ratio'])\n",
    "df1.head()                "
   ]
  },
  {
   "cell_type": "code",
   "execution_count": 139,
   "metadata": {
    "scrolled": false
   },
   "outputs": [
    {
     "data": {
      "text/plain": [
       "<matplotlib.collections.PathCollection at 0x14e0ab79898>"
      ]
     },
     "execution_count": 139,
     "metadata": {},
     "output_type": "execute_result"
    },
    {
     "data": {
      "image/png": "[encoded data removed]",
      "text/plain": [
       "<Figure size 432x288 with 1 Axes>"
      ]
     },
     "metadata": {},
     "output_type": "display_data"
    }
   ],
   "source": [
    "plt.scatter( x = \"n_comp\",y = \"ex_var_ratio\",data=df1)"
   ]
  },
  {
   "cell_type": "code",
   "execution_count": 140,
   "metadata": {},
   "outputs": [
    {
     "data": {
      "image/png": "[encoded data removed]",
      "text/plain": [
       "<Figure size 432x288 with 1 Axes>"
      ]
     },
     "metadata": {},
     "output_type": "display_data"
    }
   ],
   "source": [
    "plt.plot(ex_var_ratio)\n",
    "plt.title('Elbow Chart')\n",
    "plt.show()"
   ]
  },
  {
   "cell_type": "markdown",
   "metadata": {},
   "source": [
    "### Logistic Regression"
   ]
  },
  {
   "cell_type": "markdown",
   "metadata": {},
   "source": [
    "#### Without PCA:"
   ]
  },
  {
   "cell_type": "code",
   "execution_count": 157,
   "metadata": {},
   "outputs": [],
   "source": [
    "x = df.drop(['Class'],axis=1)\n",
    "y = df['Class']"
   ]
  },
  {
   "cell_type": "code",
   "execution_count": 158,
   "metadata": {},
   "outputs": [
    {
     "name": "stdout",
     "output_type": "stream",
     "text": [
      "[[19  2  0]\n",
      " [ 0 22  0]\n",
      " [ 0  1 16]]\n",
      "             precision    recall  f1-score   support\n",
      "\n",
      "          1       1.00      0.90      0.95        21\n",
      "          2       0.88      1.00      0.94        22\n",
      "          3       1.00      0.94      0.97        17\n",
      "\n",
      "avg / total       0.96      0.95      0.95        60\n",
      "\n",
      "[[15  0  0]\n",
      " [ 2 22  1]\n",
      " [ 0  1 18]]\n",
      "             precision    recall  f1-score   support\n",
      "\n",
      "          1       0.88      1.00      0.94        15\n",
      "          2       0.96      0.88      0.92        25\n",
      "          3       0.95      0.95      0.95        19\n",
      "\n",
      "avg / total       0.93      0.93      0.93        59\n",
      "\n",
      "[[22  1  0]\n",
      " [ 0 23  1]\n",
      " [ 0  0 12]]\n",
      "             precision    recall  f1-score   support\n",
      "\n",
      "          1       1.00      0.96      0.98        23\n",
      "          2       0.96      0.96      0.96        24\n",
      "          3       0.92      1.00      0.96        12\n",
      "\n",
      "avg / total       0.97      0.97      0.97        59\n",
      "\n",
      "Cross-validated Score:0.95% \n"
     ]
    }
   ],
   "source": [
    "from sklearn.model_selection import KFold\n",
    "kf=KFold(n_splits=3,shuffle=True,random_state=2)\n",
    "acc=[]\n",
    "for train,test in kf.split(x,y):\n",
    "    M=LogisticRegression()\n",
    "    xtrain,xtest=x.iloc[train,:],x.iloc[test,:]\n",
    "    ytrain,ytest=y[train],y[test]\n",
    "    M.fit(xtrain,ytrain)\n",
    "    y_predict=M.predict(xtest)\n",
    "    acc.append(metrics.accuracy_score(ytest,y_predict))\n",
    "    print(metrics.confusion_matrix(ytest,y_predict))\n",
    "    print(metrics.classification_report(ytest,y_predict))\n",
    "print(\"Cross-validated Score:%.2f%% \" % np.mean(acc))  "
   ]
  },
  {
   "cell_type": "markdown",
   "metadata": {},
   "source": [
    "#### With PCA:"
   ]
  },
  {
   "cell_type": "code",
   "execution_count": 142,
   "metadata": {},
   "outputs": [],
   "source": [
    "X1 = principalDf\n",
    "Y1 = df['Class']"
   ]
  },
  {
   "cell_type": "code",
   "execution_count": 153,
   "metadata": {},
   "outputs": [
    {
     "name": "stdout",
     "output_type": "stream",
     "text": [
      "[[21  0  0]\n",
      " [ 0 22  0]\n",
      " [ 0  0 17]]\n",
      "             precision    recall  f1-score   support\n",
      "\n",
      "          1       1.00      1.00      1.00        21\n",
      "          2       1.00      1.00      1.00        22\n",
      "          3       1.00      1.00      1.00        17\n",
      "\n",
      "avg / total       1.00      1.00      1.00        60\n",
      "\n",
      "[[15  0  0]\n",
      " [ 1 23  1]\n",
      " [ 0  0 19]]\n",
      "             precision    recall  f1-score   support\n",
      "\n",
      "          1       0.94      1.00      0.97        15\n",
      "          2       1.00      0.92      0.96        25\n",
      "          3       0.95      1.00      0.97        19\n",
      "\n",
      "avg / total       0.97      0.97      0.97        59\n",
      "\n",
      "[[23  0  0]\n",
      " [ 1 22  1]\n",
      " [ 0  0 12]]\n",
      "             precision    recall  f1-score   support\n",
      "\n",
      "          1       0.96      1.00      0.98        23\n",
      "          2       1.00      0.92      0.96        24\n",
      "          3       0.92      1.00      0.96        12\n",
      "\n",
      "avg / total       0.97      0.97      0.97        59\n",
      "\n",
      "Cross-validated Score:0.98% \n"
     ]
    }
   ],
   "source": [
    "from sklearn.model_selection import KFold\n",
    "kf=KFold(n_splits=3,shuffle=True,random_state=2)\n",
    "acc1=[]\n",
    "for train,test in kf.split(X1,Y1):\n",
    "    M=LogisticRegression()\n",
    "    X1train,X1test=X1.iloc[train,:],X1.iloc[test,:]\n",
    "    Y1train,Y1test=Y1[train],Y1[test]\n",
    "    M.fit(X1train,Y1train)\n",
    "    Y1_predict=M.predict(X1test)\n",
    "    acc1.append(metrics.accuracy_score(Y1test,Y1_predict))\n",
    "    print(metrics.confusion_matrix(Y1test,Y1_predict))\n",
    "    print(metrics.classification_report(Y1test,Y1_predict))\n",
    "print(\"Cross-validated Score:%.2f%% \" % np.mean(acc1))  "
   ]
  },
  {
   "cell_type": "markdown",
   "metadata": {},
   "source": [
    "### Logistic Regression with PCA(5 Components)"
   ]
  },
  {
   "cell_type": "code",
   "execution_count": 161,
   "metadata": {},
   "outputs": [],
   "source": [
    "pca5 = PCA(n_components=5)\n",
    "principalComponents = pca5.fit_transform(X)\n",
    "principalDf5 = pd.DataFrame(data = principalComponents,columns = ['Comp1','Comp2','Comp3','Comp4','Comp5'])"
   ]
  },
  {
   "cell_type": "code",
   "execution_count": 164,
   "metadata": {},
   "outputs": [
    {
     "name": "stdout",
     "output_type": "stream",
     "text": [
      "[4.73243698 2.51108093 1.45424187 0.92416587 0.85804868]\n",
      "[0.36198848 0.1920749  0.11123631 0.0706903  0.06563294]\n",
      "[0.36198848 0.55406338 0.66529969 0.73598999 0.80162293]\n"
     ]
    }
   ],
   "source": [
    "print(pca5.explained_variance_)\n",
    "print(pca5.explained_variance_ratio_)\n",
    "print(pca5.explained_variance_ratio_.cumsum())"
   ]
  },
  {
   "cell_type": "code",
   "execution_count": 162,
   "metadata": {},
   "outputs": [],
   "source": [
    "X2 = principalDf5\n",
    "Y2 = df['Class']"
   ]
  },
  {
   "cell_type": "code",
   "execution_count": 163,
   "metadata": {},
   "outputs": [
    {
     "name": "stdout",
     "output_type": "stream",
     "text": [
      "[[21  0  0]\n",
      " [ 0 22  0]\n",
      " [ 0  0 17]]\n",
      "             precision    recall  f1-score   support\n",
      "\n",
      "          1       1.00      1.00      1.00        21\n",
      "          2       1.00      1.00      1.00        22\n",
      "          3       1.00      1.00      1.00        17\n",
      "\n",
      "avg / total       1.00      1.00      1.00        60\n",
      "\n",
      "[[15  0  0]\n",
      " [ 1 23  1]\n",
      " [ 0  0 19]]\n",
      "             precision    recall  f1-score   support\n",
      "\n",
      "          1       0.94      1.00      0.97        15\n",
      "          2       1.00      0.92      0.96        25\n",
      "          3       0.95      1.00      0.97        19\n",
      "\n",
      "avg / total       0.97      0.97      0.97        59\n",
      "\n",
      "[[23  0  0]\n",
      " [ 2 21  1]\n",
      " [ 0  0 12]]\n",
      "             precision    recall  f1-score   support\n",
      "\n",
      "          1       0.92      1.00      0.96        23\n",
      "          2       1.00      0.88      0.93        24\n",
      "          3       0.92      1.00      0.96        12\n",
      "\n",
      "avg / total       0.95      0.95      0.95        59\n",
      "\n",
      "Cross-validated Score:0.97% \n"
     ]
    }
   ],
   "source": [
    "from sklearn.model_selection import KFold\n",
    "kf=KFold(n_splits=3,shuffle=True,random_state=2)\n",
    "acc=[]\n",
    "for train,test in kf.split(X2,Y2):\n",
    "    M=LogisticRegression()\n",
    "    X2train,X2test=X2.iloc[train,:],X2.iloc[test,:]\n",
    "    Y2train,Y2test=Y2[train],Y2[test]\n",
    "    M.fit(X2train,Y2train)\n",
    "    Y2_predict=M.predict(X2test)\n",
    "    acc.append(metrics.accuracy_score(Y2test,Y2_predict))\n",
    "    print(metrics.confusion_matrix(Y2test,Y2_predict))\n",
    "    print(metrics.classification_report(Y2test,Y2_predict))\n",
    "print(\"Cross-validated Score:%.2f%% \" % np.mean(acc))  "
   ]
  },
  {
   "cell_type": "markdown",
   "metadata": {},
   "source": [
    "### Logistic Regression with PCA(8 Components)"
   ]
  },
  {
   "cell_type": "code",
   "execution_count": 154,
   "metadata": {},
   "outputs": [],
   "source": [
    "pca8 = PCA(n_components=8)\n",
    "principalComponents = pca8.fit_transform(X)\n",
    "principalDf8 = pd.DataFrame(data = principalComponents,columns = ['Comp1','Comp2','Comp3','Comp4','Comp5','Comp6','Comp7','Comp8'])"
   ]
  },
  {
   "cell_type": "code",
   "execution_count": 165,
   "metadata": {},
   "outputs": [
    {
     "name": "stdout",
     "output_type": "stream",
     "text": [
      "[4.73243698 2.51108093 1.45424187 0.92416587 0.85804868 0.64528221\n",
      " 0.55414147 0.35046627]\n",
      "[0.36198848 0.1920749  0.11123631 0.0706903  0.06563294 0.04935823\n",
      " 0.04238679 0.02680749]\n",
      "[0.36198848 0.55406338 0.66529969 0.73598999 0.80162293 0.85098116\n",
      " 0.89336795 0.92017544]\n"
     ]
    }
   ],
   "source": [
    "print(pca8.explained_variance_)\n",
    "print(pca8.explained_variance_ratio_)\n",
    "print(pca8.explained_variance_ratio_.cumsum())"
   ]
  },
  {
   "cell_type": "code",
   "execution_count": 155,
   "metadata": {},
   "outputs": [],
   "source": [
    "X3 = principalDf8\n",
    "Y3 = df['Class']"
   ]
  },
  {
   "cell_type": "code",
   "execution_count": 156,
   "metadata": {},
   "outputs": [
    {
     "name": "stdout",
     "output_type": "stream",
     "text": [
      "[[21  0  0]\n",
      " [ 0 22  0]\n",
      " [ 0  0 17]]\n",
      "             precision    recall  f1-score   support\n",
      "\n",
      "          1       1.00      1.00      1.00        21\n",
      "          2       1.00      1.00      1.00        22\n",
      "          3       1.00      1.00      1.00        17\n",
      "\n",
      "avg / total       1.00      1.00      1.00        60\n",
      "\n",
      "[[15  0  0]\n",
      " [ 1 23  1]\n",
      " [ 0  0 19]]\n",
      "             precision    recall  f1-score   support\n",
      "\n",
      "          1       0.94      1.00      0.97        15\n",
      "          2       1.00      0.92      0.96        25\n",
      "          3       0.95      1.00      0.97        19\n",
      "\n",
      "avg / total       0.97      0.97      0.97        59\n",
      "\n",
      "[[23  0  0]\n",
      " [ 1 22  1]\n",
      " [ 0  0 12]]\n",
      "             precision    recall  f1-score   support\n",
      "\n",
      "          1       0.96      1.00      0.98        23\n",
      "          2       1.00      0.92      0.96        24\n",
      "          3       0.92      1.00      0.96        12\n",
      "\n",
      "avg / total       0.97      0.97      0.97        59\n",
      "\n",
      "Cross-validated Score:0.98% \n"
     ]
    }
   ],
   "source": [
    "from sklearn.model_selection import KFold\n",
    "kf=KFold(n_splits=3,shuffle=True,random_state=2)\n",
    "acc=[]\n",
    "for train,test in kf.split(X3,Y3):\n",
    "    M=LogisticRegression()\n",
    "    X3train,X3test=X3.iloc[train,:],X3.iloc[test,:]\n",
    "    Y3train,Y3test=Y3[train],Y3[test]\n",
    "    M.fit(X3train,Y3train)\n",
    "    Y3_predict=M.predict(X3test)\n",
    "    acc.append(metrics.accuracy_score(Y3test,Y3_predict))\n",
    "    print(metrics.confusion_matrix(Y3test,Y3_predict))\n",
    "    print(metrics.classification_report(Y3test,Y3_predict))\n",
    "print(\"Cross-validated Score:%.2f%% \" % np.mean(acc))  "
   ]
  },
  {
   "cell_type": "markdown",
   "metadata": {},
   "source": [
    "#### Accuracy for Logistic Regression without PCA is 95% and with PCA is 98%."
   ]
  }
 ],
 "metadata": {
  "kernelspec": {
   "display_name": "Python 3",
   "language": "python",
   "name": "python3"
  },
  "language_info": {
   "codemirror_mode": {
    "name": "ipython",
    "version": 3
   },
   "file_extension": ".py",
   "mimetype": "text/x-python",
   "name": "python",
   "nbconvert_exporter": "python",
   "pygments_lexer": "ipython3",
   "version": "3.6.5"
  }
 },
 "nbformat": 4,
 "nbformat_minor": 2
}
